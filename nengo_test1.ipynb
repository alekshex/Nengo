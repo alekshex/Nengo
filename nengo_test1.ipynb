{
  "nbformat": 4,
  "nbformat_minor": 0,
  "metadata": {
    "colab": {
      "name": "Copy of nengo-test1.ipynb",
      "provenance": [],
      "authorship_tag": "ABX9TyN0LNdZr8XNtoo3gAhHEZxJ",
      "include_colab_link": true
    },
    "kernelspec": {
      "name": "python3",
      "display_name": "Python 3"
    },
    "accelerator": "GPU"
  },
  "cells": [
    {
      "cell_type": "markdown",
      "metadata": {
        "id": "view-in-github",
        "colab_type": "text"
      },
      "source": [
        "<a href=\"https://colab.research.google.com/github/avolinski/Nengo/blob/main/nengo_test1.ipynb\" target=\"_parent\"><img src=\"https://colab.research.google.com/assets/colab-badge.svg\" alt=\"Open In Colab\"/></a>"
      ]
    },
    {
      "cell_type": "code",
      "metadata": {
        "id": "xYMBlu3VlSqG"
      },
      "source": [
        "%pip install --quiet nengo-dl"
      ],
      "execution_count": null,
      "outputs": []
    }
  ]
}